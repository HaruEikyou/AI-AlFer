{
  "nbformat": 4,
  "nbformat_minor": 0,
  "metadata": {
    "colab": {
      "name": "convolutional_neural_network.ipynb",
      "provenance": [],
      "include_colab_link": true
    },
    "kernelspec": {
      "name": "python3",
      "display_name": "Python 3"
    },
    "language_info": {
      "name": "python"
    }
  },
  "cells": [
    {
      "cell_type": "markdown",
      "metadata": {
        "id": "view-in-github",
        "colab_type": "text"
      },
      "source": [
        "<a href=\"https://colab.research.google.com/github/HaruEikyou/AI-AlFer/blob/main/neural_network/convolutional_neural_network.ipynb\" target=\"_parent\"><img src=\"https://colab.research.google.com/assets/colab-badge.svg\" alt=\"Open In Colab\"/></a>"
      ]
    },
    {
      "cell_type": "code",
      "metadata": {
        "colab": {
          "base_uri": "https://localhost:8080/"
        },
        "id": "TYG8HEb3Dkpa",
        "outputId": "e1ced53c-abe6-428c-c5b0-caf79989d566"
      },
      "source": [
        "# Download DataSet Daun Herbal\n",
        "!wget --load-cookies /tmp/cookies.txt \"https://docs.google.com/uc?export=download&confirm=$(wget --quiet --save-cookies /tmp/cookies.txt --keep-session-cookies --no-check-certificate 'https://docs.google.com/uc?export=download&id=1Ws26KbI8SE-JcOtGlw0fkHBHtF1JG4gr' -O- | sed -rn 's/.*confirm=([0-9A-Za-z_]+).*/\\1\\n/p')&id=1Ws26KbI8SE-JcOtGlw0fkHBHtF1JG4gr\" -O /tmp/leaf.zip && rm -rf /tmp/cookies.txt"
      ],
      "execution_count": 3,
      "outputs": [
        {
          "output_type": "stream",
          "name": "stdout",
          "text": [
            "--2021-11-16 14:42:29--  https://docs.google.com/uc?export=download&confirm=&id=1Ws26KbI8SE-JcOtGlw0fkHBHtF1JG4gr\n",
            "Resolving docs.google.com (docs.google.com)... 64.233.188.101, 64.233.188.138, 64.233.188.100, ...\n",
            "Connecting to docs.google.com (docs.google.com)|64.233.188.101|:443... connected.\n",
            "HTTP request sent, awaiting response... 302 Moved Temporarily\n",
            "Location: https://doc-00-0c-docs.googleusercontent.com/docs/securesc/q8guvor48r2d5u40r8gjfghdbe3athkf/ur9go86rrogm76tcog84dd94a82bevea/1637073750000/17328485340708537155/13242385579784489002Z/1Ws26KbI8SE-JcOtGlw0fkHBHtF1JG4gr?e=download [following]\n",
            "--2021-11-16 14:42:31--  https://doc-00-0c-docs.googleusercontent.com/docs/securesc/q8guvor48r2d5u40r8gjfghdbe3athkf/ur9go86rrogm76tcog84dd94a82bevea/1637073750000/17328485340708537155/13242385579784489002Z/1Ws26KbI8SE-JcOtGlw0fkHBHtF1JG4gr?e=download\n",
            "Resolving doc-00-0c-docs.googleusercontent.com (doc-00-0c-docs.googleusercontent.com)... 74.125.203.132, 2404:6800:4008:c03::84\n",
            "Connecting to doc-00-0c-docs.googleusercontent.com (doc-00-0c-docs.googleusercontent.com)|74.125.203.132|:443... connected.\n",
            "HTTP request sent, awaiting response... 302 Found\n",
            "Location: https://docs.google.com/nonceSigner?nonce=ojlfjh5k0d0qu&continue=https://doc-00-0c-docs.googleusercontent.com/docs/securesc/q8guvor48r2d5u40r8gjfghdbe3athkf/ur9go86rrogm76tcog84dd94a82bevea/1637073750000/17328485340708537155/13242385579784489002Z/1Ws26KbI8SE-JcOtGlw0fkHBHtF1JG4gr?e%3Ddownload&hash=vn8m78cgbnf897vo99rrjlb7esim9215 [following]\n",
            "--2021-11-16 14:42:31--  https://docs.google.com/nonceSigner?nonce=ojlfjh5k0d0qu&continue=https://doc-00-0c-docs.googleusercontent.com/docs/securesc/q8guvor48r2d5u40r8gjfghdbe3athkf/ur9go86rrogm76tcog84dd94a82bevea/1637073750000/17328485340708537155/13242385579784489002Z/1Ws26KbI8SE-JcOtGlw0fkHBHtF1JG4gr?e%3Ddownload&hash=vn8m78cgbnf897vo99rrjlb7esim9215\n",
            "Connecting to docs.google.com (docs.google.com)|64.233.188.101|:443... connected.\n",
            "HTTP request sent, awaiting response... 302 Found\n",
            "Location: https://doc-00-0c-docs.googleusercontent.com/docs/securesc/q8guvor48r2d5u40r8gjfghdbe3athkf/ur9go86rrogm76tcog84dd94a82bevea/1637073750000/17328485340708537155/13242385579784489002Z/1Ws26KbI8SE-JcOtGlw0fkHBHtF1JG4gr?e=download&nonce=ojlfjh5k0d0qu&user=13242385579784489002Z&hash=6o8ine3romgn94rpg9a1grbc0p14lmp5 [following]\n",
            "--2021-11-16 14:42:31--  https://doc-00-0c-docs.googleusercontent.com/docs/securesc/q8guvor48r2d5u40r8gjfghdbe3athkf/ur9go86rrogm76tcog84dd94a82bevea/1637073750000/17328485340708537155/13242385579784489002Z/1Ws26KbI8SE-JcOtGlw0fkHBHtF1JG4gr?e=download&nonce=ojlfjh5k0d0qu&user=13242385579784489002Z&hash=6o8ine3romgn94rpg9a1grbc0p14lmp5\n",
            "Connecting to doc-00-0c-docs.googleusercontent.com (doc-00-0c-docs.googleusercontent.com)|74.125.203.132|:443... connected.\n",
            "HTTP request sent, awaiting response... 200 OK\n",
            "Length: 13965958 (13M) [application/x-zip-compressed]\n",
            "Saving to: ‘/tmp/leaf.zip’\n",
            "\n",
            "/tmp/leaf.zip       100%[===================>]  13.32M  --.-KB/s    in 0.1s    \n",
            "\n",
            "2021-11-16 14:42:31 (116 MB/s) - ‘/tmp/leaf.zip’ saved [13965958/13965958]\n",
            "\n"
          ]
        }
      ]
    },
    {
      "cell_type": "code",
      "metadata": {
        "id": "4rtnNrFsEDIf"
      },
      "source": [
        "# Ekstrak dataset\n",
        "\n",
        "import os\n",
        "import zipfile\n",
        "\n",
        "local_zip = '/tmp/leaf.zip'\n",
        "zip_ref = zipfile.ZipFile(local_zip, 'r')\n",
        "zip_ref.extractall('/tmp')\n",
        "zip_ref.close()"
      ],
      "execution_count": 4,
      "outputs": []
    },
    {
      "cell_type": "code",
      "metadata": {
        "id": "y9L_1kqnEEjc"
      },
      "source": [
        "# Definisikan path untuk data train dan data validation\n",
        "\n",
        "base_dir = '/tmp/leaf'\n",
        "\n",
        "train_dir = os.path.join(base_dir, 'train')\n",
        "validation_dir = os.path.join(base_dir, 'validation')"
      ],
      "execution_count": 5,
      "outputs": []
    },
    {
      "cell_type": "code",
      "metadata": {
        "id": "9gc0BCSREF0M"
      },
      "source": [
        "import cv2\n",
        "import numpy as np\n",
        "\n",
        "# Gather data train\n",
        "train_data = []\n",
        "train_label = []\n",
        "for r, d, f in os.walk(train_dir):\n",
        "    for file in f:\n",
        "        if \".jpg\" in file:\n",
        "            imagePath = os.path.join(r, file)\n",
        "            image = cv2.imread(imagePath)\n",
        "            image = cv2.resize(image, (150,150))\n",
        "            train_data.append(image)\n",
        "            label = imagePath.split(os.path.sep)[-2]\n",
        "            train_label.append(label)\n",
        "\n",
        "train_data = np.array(train_data)\n",
        "train_label = np.array(train_label)"
      ],
      "execution_count": 6,
      "outputs": []
    },
    {
      "cell_type": "code",
      "metadata": {
        "id": "FuoKFhhVEG_O"
      },
      "source": [
        "# Gather data validation\n",
        "val_data = []\n",
        "val_label = []\n",
        "for r, d, f in os.walk(validation_dir):\n",
        "    for file in f:\n",
        "        if \".jpg\" in file:\n",
        "            imagePath = os.path.join(r, file)\n",
        "            image = cv2.imread(imagePath)\n",
        "            image = cv2.resize(image, (150,150))\n",
        "            val_data.append(image)\n",
        "            label = imagePath.split(os.path.sep)[-2]\n",
        "            val_label.append(label)\n",
        "\n",
        "val_data = np.array(val_data)\n",
        "val_label = np.array(val_label)"
      ],
      "execution_count": 7,
      "outputs": []
    },
    {
      "cell_type": "markdown",
      "metadata": {
        "id": "kiXbwrN3ELqv"
      },
      "source": [
        "<h3>Data Preprocessing</h3>"
      ]
    },
    {
      "cell_type": "code",
      "metadata": {
        "colab": {
          "base_uri": "https://localhost:8080/"
        },
        "id": "m5VhnvtrEI1I",
        "outputId": "b86c17b1-c64c-4a1b-a150-20da3ab3ff4a"
      },
      "source": [
        "# Tampilkan shape dari data train dan data validation\n",
        "print(\"Train Data = \", train_data.shape)\n",
        "print(\"Train Label = \", train_label.shape)\n",
        "print(\"Validation Data = \", val_data.shape)\n",
        "print(\"Validation Label = \", val_label.shape)"
      ],
      "execution_count": 8,
      "outputs": [
        {
          "output_type": "stream",
          "name": "stdout",
          "text": [
            "Train Data =  (70, 150, 150, 3)\n",
            "Train Label =  (70,)\n",
            "Validation Data =  (30, 150, 150, 3)\n",
            "Validation Label =  (30,)\n"
          ]
        }
      ]
    },
    {
      "cell_type": "code",
      "metadata": {
        "colab": {
          "base_uri": "https://localhost:8080/"
        },
        "id": "q1LVp6dCENne",
        "outputId": "3a071c2b-4769-4105-a668-f4f40e9ee1b5"
      },
      "source": [
        "# Normalisasi dataset\n",
        "print(\"Data sebelum di-normalisasi \", train_data[0][0][0])\n",
        "\n",
        "x_train = train_data.astype('float32') / 255.0\n",
        "x_val = val_data.astype('float32') / 255.0\n",
        "print(\"Data setelah di-normalisasi \", x_train[0][0][0])"
      ],
      "execution_count": 9,
      "outputs": [
        {
          "output_type": "stream",
          "name": "stdout",
          "text": [
            "Data sebelum di-normalisasi  [255 255 255]\n",
            "Data setelah di-normalisasi  [1. 1. 1.]\n"
          ]
        }
      ]
    },
    {
      "cell_type": "code",
      "metadata": {
        "colab": {
          "base_uri": "https://localhost:8080/"
        },
        "id": "tc7FivC6EPhm",
        "outputId": "59717cfd-eb39-46ad-adae-18f13db7097e"
      },
      "source": [
        "# Transformasi label encoder\n",
        "from sklearn.preprocessing import LabelEncoder\n",
        "\n",
        "print(\"Label sebelum di-encoder \", train_label[30:40])\n",
        "\n",
        "lb = LabelEncoder()\n",
        "y_train = lb.fit_transform(train_label)\n",
        "y_val = lb.fit_transform(val_label)\n",
        "\n",
        "print(\"Label setelah di-encoder \", y_train[30:40])"
      ],
      "execution_count": 10,
      "outputs": [
        {
          "output_type": "stream",
          "name": "stdout",
          "text": [
            "Label sebelum di-encoder  ['daun_belimbing_wuluh' 'daun_belimbing_wuluh' 'daun_belimbing_wuluh'\n",
            " 'daun_belimbing_wuluh' 'daun_belimbing_wuluh' 'daun_sirih' 'daun_sirih'\n",
            " 'daun_sirih' 'daun_sirih' 'daun_sirih']\n",
            "Label setelah di-encoder  [0 0 0 0 0 1 1 1 1 1]\n"
          ]
        }
      ]
    },
    {
      "cell_type": "markdown",
      "metadata": {
        "id": "4jVWbOhOEzQJ"
      },
      "source": [
        "<h3>Definisikan Model</h3>"
      ]
    },
    {
      "cell_type": "code",
      "metadata": {
        "id": "usLiFiwAEvVb"
      },
      "source": [
        "from tensorflow.keras.models import Sequential\n",
        "from tensorflow.keras.layers import InputLayer, Dense, Conv2D, MaxPool2D, Flatten"
      ],
      "execution_count": 11,
      "outputs": []
    },
    {
      "cell_type": "code",
      "metadata": {
        "id": "rDwzxacpE1ei"
      },
      "source": [
        "# Feature Extraction Layer\n",
        "model = Sequential()\n",
        "\n",
        "model.add(InputLayer(input_shape=[150,150,3]))\n",
        "model.add(Conv2D(filters=16, kernel_size=3, strides=1, padding='same', activation='relu'))\n",
        "model.add(MaxPool2D(pool_size=2, padding='same'))\n",
        "model.add(Conv2D(filters=32, kernel_size=3, strides=1, padding='same', activation='relu'))\n",
        "model.add(MaxPool2D(pool_size=2, padding='same'))\n",
        "model.add(Conv2D(filters=64, kernel_size=3, strides=1, padding='same', activation='relu'))\n",
        "model.add(MaxPool2D(pool_size=2, padding='same'))\n",
        "model.add(Flatten())"
      ],
      "execution_count": 12,
      "outputs": []
    },
    {
      "cell_type": "code",
      "metadata": {
        "id": "Sud1AUF0E2k8"
      },
      "source": [
        "# Fully Connected Layer\n",
        "model.add(Dense(128, activation='relu'))\n",
        "model.add(Dense(1, activation='sigmoid'))"
      ],
      "execution_count": 13,
      "outputs": []
    },
    {
      "cell_type": "code",
      "metadata": {
        "colab": {
          "base_uri": "https://localhost:8080/"
        },
        "id": "XW-KE9ePE466",
        "outputId": "bfc75332-09e4-42fe-d75c-97a408dab161"
      },
      "source": [
        "# Print model summary\n",
        "print(model.summary())"
      ],
      "execution_count": 14,
      "outputs": [
        {
          "output_type": "stream",
          "name": "stdout",
          "text": [
            "Model: \"sequential\"\n",
            "_________________________________________________________________\n",
            " Layer (type)                Output Shape              Param #   \n",
            "=================================================================\n",
            " conv2d (Conv2D)             (None, 150, 150, 16)      448       \n",
            "                                                                 \n",
            " max_pooling2d (MaxPooling2D  (None, 75, 75, 16)       0         \n",
            " )                                                               \n",
            "                                                                 \n",
            " conv2d_1 (Conv2D)           (None, 75, 75, 32)        4640      \n",
            "                                                                 \n",
            " max_pooling2d_1 (MaxPooling  (None, 38, 38, 32)       0         \n",
            " 2D)                                                             \n",
            "                                                                 \n",
            " conv2d_2 (Conv2D)           (None, 38, 38, 64)        18496     \n",
            "                                                                 \n",
            " max_pooling2d_2 (MaxPooling  (None, 19, 19, 64)       0         \n",
            " 2D)                                                             \n",
            "                                                                 \n",
            " flatten (Flatten)           (None, 23104)             0         \n",
            "                                                                 \n",
            " dense (Dense)               (None, 128)               2957440   \n",
            "                                                                 \n",
            " dense_1 (Dense)             (None, 1)                 129       \n",
            "                                                                 \n",
            "=================================================================\n",
            "Total params: 2,981,153\n",
            "Trainable params: 2,981,153\n",
            "Non-trainable params: 0\n",
            "_________________________________________________________________\n",
            "None\n"
          ]
        }
      ]
    },
    {
      "cell_type": "code",
      "metadata": {
        "colab": {
          "base_uri": "https://localhost:8080/"
        },
        "id": "Tais64D7E5Zo",
        "outputId": "918e9aef-dadc-46ac-ba33-2f7ccecea0be"
      },
      "source": [
        "# Compile model\n",
        "from tensorflow.keras.optimizers import Adam\n",
        "\n",
        "model.compile(optimizer=Adam(lr=0.001), \n",
        "              loss='binary_crossentropy', \n",
        "              metrics=['acc'])"
      ],
      "execution_count": 15,
      "outputs": [
        {
          "output_type": "stream",
          "name": "stderr",
          "text": [
            "/usr/local/lib/python3.7/dist-packages/keras/optimizer_v2/adam.py:105: UserWarning: The `lr` argument is deprecated, use `learning_rate` instead.\n",
            "  super(Adam, self).__init__(name, **kwargs)\n"
          ]
        }
      ]
    },
    {
      "cell_type": "markdown",
      "metadata": {
        "id": "NTNBH19iE8kt"
      },
      "source": [
        "<h3>Training Model</h3>"
      ]
    },
    {
      "cell_type": "code",
      "metadata": {
        "colab": {
          "base_uri": "https://localhost:8080/"
        },
        "id": "p4Vr8dyvE6pM",
        "outputId": "55514955-816e-4dc7-d4f7-7a220c68824e"
      },
      "source": [
        "H = model.fit(x_train, y_train, batch_size=20, epochs=15, validation_data=(x_val, y_val))"
      ],
      "execution_count": 16,
      "outputs": [
        {
          "output_type": "stream",
          "name": "stdout",
          "text": [
            "Epoch 1/15\n",
            "4/4 [==============================] - 3s 471ms/step - loss: 1.1705 - acc: 0.6571 - val_loss: 0.7119 - val_acc: 0.5000\n",
            "Epoch 2/15\n",
            "4/4 [==============================] - 2s 390ms/step - loss: 0.5971 - acc: 0.7143 - val_loss: 0.4947 - val_acc: 0.7667\n",
            "Epoch 3/15\n",
            "4/4 [==============================] - 2s 389ms/step - loss: 0.3623 - acc: 0.9571 - val_loss: 0.2710 - val_acc: 0.9333\n",
            "Epoch 4/15\n",
            "4/4 [==============================] - 2s 382ms/step - loss: 0.1687 - acc: 0.9286 - val_loss: 0.0801 - val_acc: 1.0000\n",
            "Epoch 5/15\n",
            "4/4 [==============================] - 2s 391ms/step - loss: 0.0856 - acc: 0.9714 - val_loss: 0.1008 - val_acc: 0.9667\n",
            "Epoch 6/15\n",
            "4/4 [==============================] - 2s 384ms/step - loss: 0.0719 - acc: 1.0000 - val_loss: 0.0241 - val_acc: 1.0000\n",
            "Epoch 7/15\n",
            "4/4 [==============================] - 2s 376ms/step - loss: 0.0965 - acc: 0.9714 - val_loss: 0.0031 - val_acc: 1.0000\n",
            "Epoch 8/15\n",
            "4/4 [==============================] - 2s 384ms/step - loss: 0.0153 - acc: 1.0000 - val_loss: 0.0177 - val_acc: 1.0000\n",
            "Epoch 9/15\n",
            "4/4 [==============================] - 2s 378ms/step - loss: 0.0367 - acc: 0.9857 - val_loss: 0.0034 - val_acc: 1.0000\n",
            "Epoch 10/15\n",
            "4/4 [==============================] - 2s 384ms/step - loss: 0.0172 - acc: 0.9857 - val_loss: 0.0016 - val_acc: 1.0000\n",
            "Epoch 11/15\n",
            "4/4 [==============================] - 2s 382ms/step - loss: 0.0047 - acc: 1.0000 - val_loss: 0.0049 - val_acc: 1.0000\n",
            "Epoch 12/15\n",
            "4/4 [==============================] - 2s 379ms/step - loss: 0.0118 - acc: 1.0000 - val_loss: 0.0017 - val_acc: 1.0000\n",
            "Epoch 13/15\n",
            "4/4 [==============================] - 2s 381ms/step - loss: 0.0017 - acc: 1.0000 - val_loss: 2.1128e-04 - val_acc: 1.0000\n",
            "Epoch 14/15\n",
            "4/4 [==============================] - 2s 380ms/step - loss: 0.0075 - acc: 1.0000 - val_loss: 1.5904e-04 - val_acc: 1.0000\n",
            "Epoch 15/15\n",
            "4/4 [==============================] - 2s 380ms/step - loss: 0.0026 - acc: 1.0000 - val_loss: 2.2803e-04 - val_acc: 1.0000\n"
          ]
        }
      ]
    },
    {
      "cell_type": "markdown",
      "metadata": {
        "id": "HuxjW35RFCZ6"
      },
      "source": [
        "<h3>Evaluasi Model</h3>"
      ]
    },
    {
      "cell_type": "code",
      "metadata": {
        "colab": {
          "base_uri": "https://localhost:8080/",
          "height": 299
        },
        "id": "1AM3ms3zE_AU",
        "outputId": "adf0c81d-63b2-43e2-8fe6-0a5aaae7e02e"
      },
      "source": [
        "%matplotlib inline\n",
        "\n",
        "import matplotlib.pyplot as plt\n",
        "\n",
        "plt.style.use(\"ggplot\")\n",
        "plt.figure()\n",
        "plt.plot(np.arange(0, 15), H.history[\"loss\"], label=\"train_loss\")\n",
        "plt.plot(np.arange(0, 15), H.history[\"val_loss\"], label=\"val_loss\")\n",
        "plt.title(\"Loss Plot\")\n",
        "plt.xlabel(\"Epoch #\")\n",
        "plt.ylabel(\"Loss\")\n",
        "plt.legend()\n",
        "plt.show()"
      ],
      "execution_count": 17,
      "outputs": [
        {
          "output_type": "display_data",
          "data": {
            "image/png": "[encoded data removed]",
            "text/plain": [
              "<Figure size 432x288 with 1 Axes>"
            ]
          },
          "metadata": {}
        }
      ]
    },
    {
      "cell_type": "code",
      "metadata": {
        "colab": {
          "base_uri": "https://localhost:8080/",
          "height": 299
        },
        "id": "q1SJWudcFEDL",
        "outputId": "5193477d-ca0a-45ba-e707-e824a7925e96"
      },
      "source": [
        "plt.style.use(\"ggplot\")\n",
        "plt.figure()\n",
        "plt.plot(np.arange(0, 15), H.history[\"acc\"], label=\"train_acc\")\n",
        "plt.plot(np.arange(0, 15), H.history[\"val_acc\"], label=\"val_acc\")\n",
        "plt.title(\"Accuracy Plot\")\n",
        "plt.xlabel(\"Epoch #\")\n",
        "plt.ylabel(\"Acc\")\n",
        "plt.legend()\n",
        "plt.show()"
      ],
      "execution_count": 18,
      "outputs": [
        {
          "output_type": "display_data",
          "data": {
            "image/png": "[encoded data removed]",
            "text/plain": [
              "<Figure size 432x288 with 1 Axes>"
            ]
          },
          "metadata": {}
        }
      ]
    },
    {
      "cell_type": "code",
      "metadata": {
        "colab": {
          "base_uri": "https://localhost:8080/"
        },
        "id": "H_8mB3igFG-x",
        "outputId": "e64d7574-66d8-4465-9a7d-5d0bdb74da77"
      },
      "source": [
        "from sklearn.metrics import classification_report\n",
        "\n",
        "pred = model.predict(x_val)\n",
        "labels = (pred > 0.5).astype(np.int)\n",
        "\n",
        "print(classification_report(y_val, labels))"
      ],
      "execution_count": 19,
      "outputs": [
        {
          "output_type": "stream",
          "name": "stdout",
          "text": [
            "              precision    recall  f1-score   support\n",
            "\n",
            "           0       1.00      1.00      1.00        15\n",
            "           1       1.00      1.00      1.00        15\n",
            "\n",
            "    accuracy                           1.00        30\n",
            "   macro avg       1.00      1.00      1.00        30\n",
            "weighted avg       1.00      1.00      1.00        30\n",
            "\n"
          ]
        }
      ]
    }
  ]
}